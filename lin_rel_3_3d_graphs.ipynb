{
 "cells": [
  {
   "cell_type": "code",
   "execution_count": 1,
   "id": "74e18002-ba4a-4b9e-a068-21a3d1d26165",
   "metadata": {},
   "outputs": [
    {
     "name": "stdout",
     "output_type": "stream",
     "text": [
      "The linear combination of the 3 3D vector fields with coefficients 1,1/2,-1 evaluates to 0 .\n"
     ]
    }
   ],
   "source": [
    "encodings= [[0,1,4,1,6,5,4,2,6], [0,2,4,1,6,5,1,5,6], [0,5,4,1,6,5,1,2,6]]\n",
    "from gcaops.graph.formality_graph import FormalityGraph\n",
    "def encoding_to_graph(encoding):\n",
    "    targets = [encoding[0:3], encoding[3:6],encoding[6:9]]\n",
    "    edges = sum([[(k+1,v) for v in t] for (k,t) in enumerate(targets)], [])\n",
    "    return FormalityGraph(1, 7, edges)\n",
    "\n",
    "graphs = [encoding_to_graph(encodings[0]), encoding_to_graph(encodings[1]), encoding_to_graph(encodings[2])]\n",
    "\n",
    "from gcaops.algebra.differential_polynomial_ring import DifferentialPolynomialRing\n",
    "from gcaops.algebra.superfunction_algebra import SuperfunctionAlgebra\n",
    "\n",
    "D3 = DifferentialPolynomialRing(QQ, ('rho','a1'), ('x','y','z'), max_differential_orders=[3+1,1+3+1])\n",
    "rho, a1 = D3.fibre_variables()\n",
    "x,y,z= D3.base_variables()\n",
    "even_coords = [x,y,z]\n",
    "\n",
    "S3.<xi0,xi1,xi2> = SuperfunctionAlgebra(D3, D3.base_variables())\n",
    "xi = S3.gens()\n",
    "odd_coords = xi\n",
    "epsilon = xi[0]*xi[1]*xi[2]\n",
    "\n",
    "import itertools\n",
    "def evaluate_graph(g):\n",
    "    E = x*xi[0] + y*xi[1] + z*xi[2] \n",
    "    result = S3.zero()\n",
    "    for index_choice in itertools.product(itertools.permutations(range(3)), repeat=3):\n",
    "        sign = epsilon[index_choice[0]] * epsilon[index_choice[1]] * epsilon[index_choice[2]]\n",
    "        vertex_content = [E, S3(rho), S3(rho), S3(rho), S3(a1), S3(a1), S3(a1)]\n",
    "        for ((source, target), index) in zip(g.edges(), sum(map(list, index_choice), [])):\n",
    "            vertex_content[target] = vertex_content[target].derivative(even_coords[index])\n",
    "        result += sign * prod(vertex_content)\n",
    "    return result\n",
    "\n",
    "vector_fields = [evaluate_graph(graphs[0]),evaluate_graph(graphs[1]), evaluate_graph(graphs[2])]\n",
    "vector_field=vector_fields[0]+1/2*vector_fields[1]-1*vector_fields[2]\n",
    "\n",
    "print('The linear combination of the 3 3D vector fields with coefficients 1,1/2,-1 evaluates to',vector_field, '.')"
   ]
  }
 ],
 "metadata": {
  "kernelspec": {
   "display_name": "SageMath 10.1",
   "language": "sage",
   "name": "sagemath"
  },
  "language_info": {
   "codemirror_mode": {
    "name": "ipython",
    "version": 3
   },
   "file_extension": ".py",
   "mimetype": "text/x-python",
   "name": "python",
   "nbconvert_exporter": "python",
   "pygments_lexer": "ipython3",
   "version": "3.8.18"
  }
 },
 "nbformat": 4,
 "nbformat_minor": 5
}
