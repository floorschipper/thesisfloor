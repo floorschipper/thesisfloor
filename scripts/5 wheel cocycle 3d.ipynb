{
 "cells": [
  {
   "cell_type": "code",
   "execution_count": 1,
   "id": "7f3ef94c-0284-4611-932c-3c8d011031aa",
   "metadata": {},
   "outputs": [],
   "source": [
    "from gcaops.graph.formality_graph import FormalityGraph"
   ]
  },
  {
   "cell_type": "code",
   "execution_count": 2,
   "id": "7416c61a-782e-40c1-ab12-13051572b4f3",
   "metadata": {},
   "outputs": [],
   "source": [
    "from gcaops.algebra.differential_polynomial_ring import DifferentialPolynomialRing\n",
    "D3 = DifferentialPolynomialRing(QQ, ('rho', 'a'), ('x','y', 'z'), max_differential_orders=[5+1, 5+1+1])\n",
    "rho, a = D3.fibre_variables()\n",
    "x,y, z = D3.base_variables()\n",
    "even_coords = [x,y,z]"
   ]
  },
  {
   "cell_type": "code",
   "execution_count": 3,
   "id": "7803c82f-de9c-484f-ac48-2f2d5cc1304a",
   "metadata": {},
   "outputs": [],
   "source": [
    "from gcaops.algebra.superfunction_algebra import SuperfunctionAlgebra\n",
    "\n",
    "S3.<xi0,xi1,xi2> = SuperfunctionAlgebra(D3, D3.base_variables())\n",
    "xi = S3.gens()\n",
    "odd_coords = xi\n",
    "epsilon = xi[0]*xi[1]*xi[2] # Levi-Civita tensor"
   ]
  },
  {
   "cell_type": "code",
   "execution_count": 4,
   "id": "9c3c85e6-d1da-403b-a77b-93188554a549",
   "metadata": {},
   "outputs": [
    {
     "name": "stdout",
     "output_type": "stream",
     "text": [
      "CPU times: user 146 ms, sys: 27.6 ms, total: 173 ms\n",
      "Wall time: 211 ms\n"
     ]
    },
    {
     "data": {
      "text/plain": [
       "1*UndirectedGraph(6, [(0, 3), (0, 4), (0, 5), (1, 2), (1, 4), (1, 5), (2, 3), (2, 5), (3, 5), (4, 5)]) + (5/2)*UndirectedGraph(6, [(0, 1), (0, 3), (0, 5), (1, 2), (1, 4), (2, 4), (2, 5), (3, 4), (3, 5), (4, 5)])"
      ]
     },
     "execution_count": 4,
     "metadata": {},
     "output_type": "execute_result"
    }
   ],
   "source": [
    "%%time\n",
    "from gcaops.graph.undirected_graph_complex import UndirectedGraphComplex\n",
    "\n",
    "GC = UndirectedGraphComplex(QQ, implementation='vector', sparse=True)\n",
    "fivewheel_cocycle = GC.cohomology_basis(6,10)[0]; fivewheel_cocycle"
   ]
  },
  {
   "cell_type": "code",
   "execution_count": 5,
   "id": "6bfd2e8c-4f70-4132-928b-d1dab32c410d",
   "metadata": {},
   "outputs": [
    {
     "name": "stdout",
     "output_type": "stream",
     "text": [
      "CPU times: user 12.2 s, sys: 531 ms, total: 12.8 s\n",
      "Wall time: 13.3 s\n"
     ]
    }
   ],
   "source": [
    "%%time\n",
    "from gcaops.graph.directed_graph_complex import DirectedGraphComplex\n",
    "dGC = DirectedGraphComplex(QQ, implementation='vector')\n",
    "fivewheel_oriented = dGC(fivewheel_cocycle)\n",
    "fivewheel_oriented_filtered = fivewheel_oriented.filter(max_out_degree=2)\n",
    "fivewheel_operation = S3.graph_operation(fivewheel_oriented_filtered)"
   ]
  },
  {
   "cell_type": "code",
   "execution_count": 6,
   "id": "a634c7f0-a630-407a-8857-927a93c1e3fa",
   "metadata": {},
   "outputs": [],
   "source": [
    "P = rho*epsilon.bracket(a)"
   ]
  },
  {
   "cell_type": "code",
   "execution_count": 7,
   "id": "96946f4b-f903-4dd8-8a79-0e76c40a49ba",
   "metadata": {},
   "outputs": [
    {
     "name": "stdout",
     "output_type": "stream",
     "text": [
      "CPU times: user 16min 42s, sys: 1min 16s, total: 17min 59s\n",
      "Wall time: 6h 54min 33s\n"
     ]
    }
   ],
   "source": [
    "%%time\n",
    "Q_fivewheel= fivewheel_operation(P,P,P,P,P,P)"
   ]
  },
  {
   "cell_type": "code",
   "execution_count": 8,
   "id": "23fd557c-af89-49da-b0d8-52d175c082d3",
   "metadata": {},
   "outputs": [
    {
     "name": "stdout",
     "output_type": "stream",
     "text": [
      "CPU times: user 10min 3s, sys: 7.65 s, total: 10min 10s\n",
      "Wall time: 10min 10s\n"
     ]
    },
    {
     "data": {
      "text/plain": [
       "0"
      ]
     },
     "execution_count": 8,
     "metadata": {},
     "output_type": "execute_result"
    }
   ],
   "source": [
    "%%time\n",
    "P.bracket(Q_fivewheel)"
   ]
  },
  {
   "cell_type": "code",
   "execution_count": 9,
   "id": "2d016a3b-5554-44af-bcec-becab2205d84",
   "metadata": {},
   "outputs": [
    {
     "name": "stdout",
     "output_type": "stream",
     "text": [
      "CPU times: user 5.82 s, sys: 369 ms, total: 6.19 s\n",
      "Wall time: 6.6 s\n"
     ]
    }
   ],
   "source": [
    "%%time\n",
    "import pickle\n",
    "file_path = 'q_fivewheel_3d.pickle'\n",
    "\n",
    "with open(file_path,'wb') as file:\n",
    "    pickle.dump(Q_fivewheel, file)"
   ]
  }
 ],
 "metadata": {
  "kernelspec": {
   "display_name": "SageMath 10.1",
   "language": "sage",
   "name": "sagemath"
  },
  "language_info": {
   "codemirror_mode": {
    "name": "ipython",
    "version": 3
   },
   "file_extension": ".py",
   "mimetype": "text/x-python",
   "name": "python",
   "nbconvert_exporter": "python",
   "pygments_lexer": "ipython3",
   "version": "3.8.18"
  }
 },
 "nbformat": 4,
 "nbformat_minor": 5
}
