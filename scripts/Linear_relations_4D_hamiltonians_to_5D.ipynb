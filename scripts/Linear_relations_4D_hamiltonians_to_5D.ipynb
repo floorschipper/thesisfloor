{
 "cells": [
  {
   "cell_type": "code",
   "execution_count": 1,
   "id": "3cd66228-a48a-407c-8306-e522baa638a4",
   "metadata": {},
   "outputs": [
    {
     "name": "stdout",
     "output_type": "stream",
     "text": [
      "Number of 5D Hamiltonians: 21\n",
      "Calculating 5D hamiltonian_formulas\n",
      "Calculated 5D hamiltonian_formulas\n",
      "5D Hamiltonians 3 15 share the same formula\n",
      "5D Hamiltonians 4 17 share the same formula\n",
      "5D Hamiltonians 5 16 share the same formula\n",
      "5D Hamiltonians 10 11 share the same formula\n",
      "5D Hamiltonians 13 18 share the same formula\n",
      "5D Hamiltonians 14 19 share the same formula\n",
      "5D Hamiltonians 1 6 share the same formula with a - sign\n",
      "5D Hamiltonians 2 7 share the same formula with a - sign\n"
     ]
    }
   ],
   "source": [
    "NPROCS=14\n",
    "\n",
    "hamiltonian_encodings= [(0, 1, 2, 4, 6, 0, 1, 3, 5, 7), (0, 1, 2, 4, 6, 1, 2, 3, 5, 7), (0, 1, 2, 4, 6, 1, 3, 4, 5, 7), (0, 2, 3, 4, 6, 1, 2, 3, 5, 7), (0, 2, 3, 4, 6, 1, 3, 4, 5, 7), (0, 2, 4, 5, 6, 1, 3, 4, 5, 7), (0, 1, 2, 4, 6, 0, 2, 3, 5, 7), (0, 1, 2, 4, 6, 0, 3, 4, 5, 7), (0, 1, 2, 4, 6, 2, 3, 4, 5, 7), (0, 2, 3, 4, 6, 0, 2, 3, 5, 7), (0, 2, 4, 5, 6, 0, 2, 3, 5, 7), (0, 2, 3, 4, 6, 0, 3, 4, 5, 7), (0, 2, 4, 5, 6,  0, 3, 4, 5, 7), (0, 2, 3, 4, 6, 2, 3, 4, 5, 7), (0, 2, 4, 5, 6, 2, 3, 4, 5, 7), (1, 2, 3, 4, 6, 0, 2, 3, 5, 7), (1, 2, 4, 5, 6, 0, 3, 4, 5, 7), (1, 2, 3, 4, 6, 0, 3, 4, 5, 7), (1, 2, 3, 4, 6, 2, 3, 4, 5, 7), (1, 2, 4, 5, 6, 2, 3, 4, 5, 7), (2, 3, 4, 5, 6, 2, 3, 4, 5, 7)]\n",
    "\n",
    "from gcaops.graph.formality_graph import FormalityGraph\n",
    "def encoding_to_graph(encoding):\n",
    "    targets = [encoding[0:5], encoding[5:10]]\n",
    "    edges = sum([[(k+1,v) for v in t] for (k,t) in enumerate(targets)], [])\n",
    "    return FormalityGraph(0, 8, edges)\n",
    "\n",
    "hamiltonian_graphs = [encoding_to_graph(e) for e in hamiltonian_encodings]\n",
    "print(\"Number of 5D Hamiltonians:\", len(hamiltonian_graphs), flush=True)\n",
    "\n",
    "from gcaops.algebra.differential_polynomial_ring import DifferentialPolynomialRing\n",
    "from gcaops.algebra.superfunction_algebra import SuperfunctionAlgebra\n",
    "\n",
    "D5 = DifferentialPolynomialRing(QQ, ('rho','a1','a2', 'a3'), ('x','y','z','w', 'v'), max_differential_orders=[3+1,1+3+1,1+3+1, 1+3+1])\n",
    "rho, a1, a2, a3 = D5.fibre_variables()\n",
    "x,y,z,w, v = D5.base_variables()\n",
    "even_coords = [x,y,z,w,v]\n",
    "\n",
    "S5.<xi0,xi1,xi2,xi3,xi4> = SuperfunctionAlgebra(D5, D5.base_variables())\n",
    "xi = S5.gens()\n",
    "odd_coords = xi\n",
    "epsilon = xi[0]*xi[1]*xi[2]*xi[3]*xi[4] \n",
    "\n",
    "import itertools\n",
    "from multiprocessing import Pool\n",
    "\n",
    "def evaluate_graph(g):\n",
    "    E = x*xi[0] + y*xi[1] + z*xi[2] + w*xi[3] + v*xi[4] \n",
    "    result = S5.zero()\n",
    "    for index_choice in itertools.product(itertools.permutations(range(5)), repeat=2):\n",
    "        sign = epsilon[index_choice[0]] * epsilon[index_choice[1]]\n",
    "        vertex_content = [S5(rho), S5(rho), S5(a1), S5(a1), S5(a2), S5(a2), S5(a3), S5(a3)]\n",
    "        for ((source, target), index) in zip(g.edges(), sum(map(list, index_choice), [])):\n",
    "            vertex_content[target] = vertex_content[target].derivative(even_coords[index])\n",
    "        result += sign * prod(vertex_content)\n",
    "    return result\n",
    "\n",
    "print(\"Calculating 5D hamiltonian_formulas\", flush=True)\n",
    "hamiltonian_formulas = []\n",
    "with Pool(processes=NPROCS) as pool:\n",
    "    hamiltonian_formulas = list(pool.imap(evaluate_graph, hamiltonian_graphs))\n",
    "print(\"Calculated 5D hamiltonian_formulas\", flush=True)\n",
    "\n",
    "hamiltonian_formulas.count(0)\n",
    "[k for (k, ham) in enumerate(hamiltonian_formulas) if ham == 0]\n",
    "\n",
    "from itertools import combinations\n",
    "for i,j in combinations(range(len(hamiltonian_formulas)),2):\n",
    "    if i!=j and hamiltonian_formulas[i]==hamiltonian_formulas[j]:\n",
    "        print(\"5D Hamiltonians\", i,j, \"share the same formula\")\n",
    "\n",
    "for i,j in combinations(range(len(hamiltonian_formulas)),2):\n",
    "    if i!=j and hamiltonian_formulas[i]==-hamiltonian_formulas[j]:\n",
    "        print(\"5D Hamiltonians\", i,j, \"share the same formula with a - sign\")"
   ]
  }
 ],
 "metadata": {
  "kernelspec": {
   "display_name": "SageMath 10.1",
   "language": "sage",
   "name": "sagemath"
  },
  "language_info": {
   "codemirror_mode": {
    "name": "ipython",
    "version": 3
   },
   "file_extension": ".py",
   "mimetype": "text/x-python",
   "name": "python",
   "nbconvert_exporter": "python",
   "pygments_lexer": "ipython3",
   "version": "3.8.18"
  }
 },
 "nbformat": 4,
 "nbformat_minor": 5
}
