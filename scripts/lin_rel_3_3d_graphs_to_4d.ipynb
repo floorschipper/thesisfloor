{
 "cells": [
  {
   "cell_type": "code",
   "execution_count": 1,
   "id": "9e66cc4e-5584-4c39-a33a-8fffe82fff1e",
   "metadata": {},
   "outputs": [
    {
     "name": "stdout",
     "output_type": "stream",
     "text": [
      "The linear combination of the 3 4D vector fields with coefficients 1,1/2,-1 evaluates to 0 .\n"
     ]
    }
   ],
   "source": [
    "encodings= [[0,1,4,7,1,6,5,8,4,2,6,9], [0,2,4,7,1,6,5,8,1,5,6,9], [0,5,4,7,1,6,5,8,1,2,6,9]]\n",
    "from gcaops.graph.formality_graph import FormalityGraph\n",
    "def encoding_to_graph(encoding):\n",
    "    targets = [encoding[0:4], encoding[4:8],encoding[8:12]]\n",
    "    edges = sum([[(k+1,v) for v in t] for (k,t) in enumerate(targets)], [])\n",
    "    return FormalityGraph(1, 10, edges)\n",
    "\n",
    "graphs = [encoding_to_graph(encodings[0]), encoding_to_graph(encodings[1]), encoding_to_graph(encodings[2])]\n",
    "\n",
    "from gcaops.algebra.differential_polynomial_ring import DifferentialPolynomialRing\n",
    "from gcaops.algebra.superfunction_algebra import SuperfunctionAlgebra\n",
    "\n",
    "D4 = DifferentialPolynomialRing(QQ, ('rho','a1', 'a2'), ('x','y','z', 'w'), max_differential_orders=[3+1,1+3+1,1+3+1])\n",
    "rho, a1, a2 = D4.fibre_variables()\n",
    "x,y,z,w= D4.base_variables()\n",
    "even_coords = [x,y,z,w]\n",
    "\n",
    "S4.<xi0,xi1,xi2,xi3> = SuperfunctionAlgebra(D4, D4.base_variables())\n",
    "xi = S4.gens()\n",
    "odd_coords = xi\n",
    "epsilon = xi[0]*xi[1]*xi[2]*xi[3]\n",
    "\n",
    "import itertools\n",
    "\n",
    "def evaluate_graph(g):\n",
    "    E = x*xi[0] + y*xi[1] + z*xi[2] +w*xi[3]\n",
    "    result = S4.zero()\n",
    "    for index_choice in itertools.product(itertools.permutations(range(4)), repeat=3):\n",
    "        sign = epsilon[index_choice[0]] * epsilon[index_choice[1]] * epsilon[index_choice[2]]\n",
    "        vertex_content = [E, S4(rho), S4(rho), S4(rho), S4(a1), S4(a1), S4(a1), S4(a2), S4(a2), S4(a2)]\n",
    "        for ((source, target), index) in zip(g.edges(), sum(map(list, index_choice), [])):\n",
    "            vertex_content[target] = vertex_content[target].derivative(even_coords[index])\n",
    "        result += sign * prod(vertex_content)\n",
    "    return result\n",
    "\n",
    "vector_fields = [evaluate_graph(graphs[0]),evaluate_graph(graphs[1]), evaluate_graph(graphs[2])]\n",
    "vector_field=vector_fields[0]+1/2*vector_fields[1]-1*vector_fields[2]\n",
    "\n",
    "print('The linear combination of the 3 4D vector fields with coefficients 1,1/2,-1 evaluates to',vector_field, '.')"
   ]
  }
 ],
 "metadata": {
  "kernelspec": {
   "display_name": "SageMath 10.1",
   "language": "sage",
   "name": "sagemath"
  },
  "language_info": {
   "codemirror_mode": {
    "name": "ipython",
    "version": 3
   },
   "file_extension": ".py",
   "mimetype": "text/x-python",
   "name": "python",
   "nbconvert_exporter": "python",
   "pygments_lexer": "ipython3",
   "version": "3.8.18"
  }
 },
 "nbformat": 4,
 "nbformat_minor": 5
}
